{
 "cells": [
  {
   "cell_type": "markdown",
   "id": "26a5657e-8e71-4c23-91dc-30dd5cdf13e0",
   "metadata": {},
   "source": [
    "## 第4章 基礎的な回帰予測を行う10本ノック"
   ]
  },
  {
   "cell_type": "code",
   "execution_count": null,
   "id": "c269016a-b045-419f-a980-1add1af2e937",
   "metadata": {},
   "outputs": [],
   "source": []
  },
  {
   "cell_type": "code",
   "execution_count": null,
   "id": "c9ac2de6-66df-46f9-b498-54f2ea85c069",
   "metadata": {},
   "outputs": [],
   "source": []
  },
  {
   "cell_type": "code",
   "execution_count": null,
   "id": "34bce2b3-b299-4fab-addc-4de4011a0f90",
   "metadata": {},
   "outputs": [],
   "source": []
  },
  {
   "cell_type": "code",
   "execution_count": null,
   "id": "b77b2ac0-8112-4eb2-ab1b-05ecc4fc1a72",
   "metadata": {},
   "outputs": [],
   "source": []
  }
 ],
 "metadata": {
  "kernelspec": {
   "display_name": "Python 3 (ipykernel)",
   "language": "python",
   "name": "python3"
  },
  "language_info": {
   "codemirror_mode": {
    "name": "ipython",
    "version": 3
   },
   "file_extension": ".py",
   "mimetype": "text/x-python",
   "name": "python",
   "nbconvert_exporter": "python",
   "pygments_lexer": "ipython3",
   "version": "3.12.1"
  }
 },
 "nbformat": 4,
 "nbformat_minor": 5
}
