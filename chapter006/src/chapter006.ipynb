{
 "cells": [
  {
   "cell_type": "markdown",
   "id": "e4333e91-183c-41b2-9517-bf2233d6a374",
   "metadata": {},
   "source": [
    "## 第6章 決定木系回帰予測を行うノック"
   ]
  },
  {
   "cell_type": "markdown",
   "id": "d7fb91b0-60fc-4bf1-b8ad-d9e3699e8be1",
   "metadata": {},
   "source": [
    "ボストンデータが利用できないのでスキップする"
   ]
  }
 ],
 "metadata": {
  "kernelspec": {
   "display_name": "Python 3 (ipykernel)",
   "language": "python",
   "name": "python3"
  },
  "language_info": {
   "codemirror_mode": {
    "name": "ipython",
    "version": 3
   },
   "file_extension": ".py",
   "mimetype": "text/x-python",
   "name": "python",
   "nbconvert_exporter": "python",
   "pygments_lexer": "ipython3",
   "version": "3.12.1"
  }
 },
 "nbformat": 4,
 "nbformat_minor": 5
}
