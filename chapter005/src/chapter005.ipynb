{
 "cells": [
  {
   "cell_type": "markdown",
   "id": "cb4f2b89-0427-4a54-9697-f9f0087e97bc",
   "metadata": {},
   "source": [
    "## 第5章 線形回帰予測を行う10本ノック"
   ]
  },
  {
   "cell_type": "markdown",
   "id": "8ff91ae5-550d-4069-a96c-445617bf156a",
   "metadata": {},
   "source": [
    "### ノック41 : データを加工しよう"
   ]
  },
  {
   "cell_type": "markdown",
   "id": "ae520d10-05e7-4c37-8bed-2f6a70c2190e",
   "metadata": {},
   "source": [
    "#### データの読み込み"
   ]
  },
  {
   "cell_type": "code",
   "execution_count": 31,
   "id": "6628d88a-9839-4601-b470-b3734108fe26",
   "metadata": {},
   "outputs": [],
   "source": [
    "from sklearn.datasets import fetch_california_housing\n",
    "\n",
    "housing = fetch_california_housing()"
   ]
  },
  {
   "cell_type": "code",
   "execution_count": 32,
   "id": "fef0635e-82e4-4cbd-b9ad-82bc875e1d82",
   "metadata": {},
   "outputs": [
    {
     "data": {
      "text/html": [
       "<div>\n",
       "<style scoped>\n",
       "    .dataframe tbody tr th:only-of-type {\n",
       "        vertical-align: middle;\n",
       "    }\n",
       "\n",
       "    .dataframe tbody tr th {\n",
       "        vertical-align: top;\n",
       "    }\n",
       "\n",
       "    .dataframe thead th {\n",
       "        text-align: right;\n",
       "    }\n",
       "</style>\n",
       "<table border=\"1\" class=\"dataframe\">\n",
       "  <thead>\n",
       "    <tr style=\"text-align: right;\">\n",
       "      <th></th>\n",
       "      <th>MedInc</th>\n",
       "      <th>HouseAge</th>\n",
       "      <th>AveRooms</th>\n",
       "      <th>AveBedrms</th>\n",
       "      <th>Population</th>\n",
       "      <th>AveOccup</th>\n",
       "      <th>Latitude</th>\n",
       "      <th>Longitude</th>\n",
       "      <th>MEDV</th>\n",
       "    </tr>\n",
       "  </thead>\n",
       "  <tbody>\n",
       "    <tr>\n",
       "      <th>0</th>\n",
       "      <td>8.3252</td>\n",
       "      <td>41.0</td>\n",
       "      <td>6.984127</td>\n",
       "      <td>1.023810</td>\n",
       "      <td>322.0</td>\n",
       "      <td>2.555556</td>\n",
       "      <td>37.88</td>\n",
       "      <td>-122.23</td>\n",
       "      <td>4.526</td>\n",
       "    </tr>\n",
       "    <tr>\n",
       "      <th>1</th>\n",
       "      <td>8.3014</td>\n",
       "      <td>21.0</td>\n",
       "      <td>6.238137</td>\n",
       "      <td>0.971880</td>\n",
       "      <td>2401.0</td>\n",
       "      <td>2.109842</td>\n",
       "      <td>37.86</td>\n",
       "      <td>-122.22</td>\n",
       "      <td>3.585</td>\n",
       "    </tr>\n",
       "    <tr>\n",
       "      <th>2</th>\n",
       "      <td>7.2574</td>\n",
       "      <td>52.0</td>\n",
       "      <td>8.288136</td>\n",
       "      <td>1.073446</td>\n",
       "      <td>496.0</td>\n",
       "      <td>2.802260</td>\n",
       "      <td>37.85</td>\n",
       "      <td>-122.24</td>\n",
       "      <td>3.521</td>\n",
       "    </tr>\n",
       "    <tr>\n",
       "      <th>3</th>\n",
       "      <td>5.6431</td>\n",
       "      <td>52.0</td>\n",
       "      <td>5.817352</td>\n",
       "      <td>1.073059</td>\n",
       "      <td>558.0</td>\n",
       "      <td>2.547945</td>\n",
       "      <td>37.85</td>\n",
       "      <td>-122.25</td>\n",
       "      <td>3.413</td>\n",
       "    </tr>\n",
       "    <tr>\n",
       "      <th>4</th>\n",
       "      <td>3.8462</td>\n",
       "      <td>52.0</td>\n",
       "      <td>6.281853</td>\n",
       "      <td>1.081081</td>\n",
       "      <td>565.0</td>\n",
       "      <td>2.181467</td>\n",
       "      <td>37.85</td>\n",
       "      <td>-122.25</td>\n",
       "      <td>3.422</td>\n",
       "    </tr>\n",
       "  </tbody>\n",
       "</table>\n",
       "</div>"
      ],
      "text/plain": [
       "   MedInc  HouseAge  AveRooms  AveBedrms  Population  AveOccup  Latitude  \\\n",
       "0  8.3252      41.0  6.984127   1.023810       322.0  2.555556     37.88   \n",
       "1  8.3014      21.0  6.238137   0.971880      2401.0  2.109842     37.86   \n",
       "2  7.2574      52.0  8.288136   1.073446       496.0  2.802260     37.85   \n",
       "3  5.6431      52.0  5.817352   1.073059       558.0  2.547945     37.85   \n",
       "4  3.8462      52.0  6.281853   1.081081       565.0  2.181467     37.85   \n",
       "\n",
       "   Longitude   MEDV  \n",
       "0    -122.23  4.526  \n",
       "1    -122.22  3.585  \n",
       "2    -122.24  3.521  \n",
       "3    -122.25  3.413  \n",
       "4    -122.25  3.422  "
      ]
     },
     "metadata": {},
     "output_type": "display_data"
    }
   ],
   "source": [
    "import pandas as pd\n",
    "\n",
    "df = pd.DataFrame(housing.data, columns=housing.feature_names)\n",
    "df['MEDV'] = housing.target\n",
    "\n",
    "display(df.head())"
   ]
  },
  {
   "cell_type": "markdown",
   "id": "edd4c2ba-984d-4d1c-8020-e3293af31739",
   "metadata": {},
   "source": [
    "#### 説明変数・目的変数の分割"
   ]
  },
  {
   "cell_type": "code",
   "execution_count": 33,
   "id": "1cd0b6b6-64d3-49c9-b9c8-8414b7006b8b",
   "metadata": {},
   "outputs": [
    {
     "data": {
      "text/html": [
       "<div>\n",
       "<style scoped>\n",
       "    .dataframe tbody tr th:only-of-type {\n",
       "        vertical-align: middle;\n",
       "    }\n",
       "\n",
       "    .dataframe tbody tr th {\n",
       "        vertical-align: top;\n",
       "    }\n",
       "\n",
       "    .dataframe thead th {\n",
       "        text-align: right;\n",
       "    }\n",
       "</style>\n",
       "<table border=\"1\" class=\"dataframe\">\n",
       "  <thead>\n",
       "    <tr style=\"text-align: right;\">\n",
       "      <th></th>\n",
       "      <th>MedInc</th>\n",
       "      <th>HouseAge</th>\n",
       "      <th>AveRooms</th>\n",
       "      <th>AveBedrms</th>\n",
       "      <th>Population</th>\n",
       "      <th>AveOccup</th>\n",
       "      <th>Latitude</th>\n",
       "      <th>Longitude</th>\n",
       "    </tr>\n",
       "  </thead>\n",
       "  <tbody>\n",
       "    <tr>\n",
       "      <th>0</th>\n",
       "      <td>8.3252</td>\n",
       "      <td>41.0</td>\n",
       "      <td>6.984127</td>\n",
       "      <td>1.023810</td>\n",
       "      <td>322.0</td>\n",
       "      <td>2.555556</td>\n",
       "      <td>37.88</td>\n",
       "      <td>-122.23</td>\n",
       "    </tr>\n",
       "    <tr>\n",
       "      <th>1</th>\n",
       "      <td>8.3014</td>\n",
       "      <td>21.0</td>\n",
       "      <td>6.238137</td>\n",
       "      <td>0.971880</td>\n",
       "      <td>2401.0</td>\n",
       "      <td>2.109842</td>\n",
       "      <td>37.86</td>\n",
       "      <td>-122.22</td>\n",
       "    </tr>\n",
       "    <tr>\n",
       "      <th>2</th>\n",
       "      <td>7.2574</td>\n",
       "      <td>52.0</td>\n",
       "      <td>8.288136</td>\n",
       "      <td>1.073446</td>\n",
       "      <td>496.0</td>\n",
       "      <td>2.802260</td>\n",
       "      <td>37.85</td>\n",
       "      <td>-122.24</td>\n",
       "    </tr>\n",
       "    <tr>\n",
       "      <th>3</th>\n",
       "      <td>5.6431</td>\n",
       "      <td>52.0</td>\n",
       "      <td>5.817352</td>\n",
       "      <td>1.073059</td>\n",
       "      <td>558.0</td>\n",
       "      <td>2.547945</td>\n",
       "      <td>37.85</td>\n",
       "      <td>-122.25</td>\n",
       "    </tr>\n",
       "    <tr>\n",
       "      <th>4</th>\n",
       "      <td>3.8462</td>\n",
       "      <td>52.0</td>\n",
       "      <td>6.281853</td>\n",
       "      <td>1.081081</td>\n",
       "      <td>565.0</td>\n",
       "      <td>2.181467</td>\n",
       "      <td>37.85</td>\n",
       "      <td>-122.25</td>\n",
       "    </tr>\n",
       "  </tbody>\n",
       "</table>\n",
       "</div>"
      ],
      "text/plain": [
       "   MedInc  HouseAge  AveRooms  AveBedrms  Population  AveOccup  Latitude  \\\n",
       "0  8.3252      41.0  6.984127   1.023810       322.0  2.555556     37.88   \n",
       "1  8.3014      21.0  6.238137   0.971880      2401.0  2.109842     37.86   \n",
       "2  7.2574      52.0  8.288136   1.073446       496.0  2.802260     37.85   \n",
       "3  5.6431      52.0  5.817352   1.073059       558.0  2.547945     37.85   \n",
       "4  3.8462      52.0  6.281853   1.081081       565.0  2.181467     37.85   \n",
       "\n",
       "   Longitude  \n",
       "0    -122.23  \n",
       "1    -122.22  \n",
       "2    -122.24  \n",
       "3    -122.25  \n",
       "4    -122.25  "
      ]
     },
     "metadata": {},
     "output_type": "display_data"
    },
    {
     "data": {
      "text/html": [
       "<div>\n",
       "<style scoped>\n",
       "    .dataframe tbody tr th:only-of-type {\n",
       "        vertical-align: middle;\n",
       "    }\n",
       "\n",
       "    .dataframe tbody tr th {\n",
       "        vertical-align: top;\n",
       "    }\n",
       "\n",
       "    .dataframe thead th {\n",
       "        text-align: right;\n",
       "    }\n",
       "</style>\n",
       "<table border=\"1\" class=\"dataframe\">\n",
       "  <thead>\n",
       "    <tr style=\"text-align: right;\">\n",
       "      <th></th>\n",
       "      <th>MEDV</th>\n",
       "    </tr>\n",
       "  </thead>\n",
       "  <tbody>\n",
       "    <tr>\n",
       "      <th>0</th>\n",
       "      <td>4.526</td>\n",
       "    </tr>\n",
       "    <tr>\n",
       "      <th>1</th>\n",
       "      <td>3.585</td>\n",
       "    </tr>\n",
       "    <tr>\n",
       "      <th>2</th>\n",
       "      <td>3.521</td>\n",
       "    </tr>\n",
       "    <tr>\n",
       "      <th>3</th>\n",
       "      <td>3.413</td>\n",
       "    </tr>\n",
       "    <tr>\n",
       "      <th>4</th>\n",
       "      <td>3.422</td>\n",
       "    </tr>\n",
       "  </tbody>\n",
       "</table>\n",
       "</div>"
      ],
      "text/plain": [
       "    MEDV\n",
       "0  4.526\n",
       "1  3.585\n",
       "2  3.521\n",
       "3  3.413\n",
       "4  3.422"
      ]
     },
     "metadata": {},
     "output_type": "display_data"
    }
   ],
   "source": [
    "X = df[housing.feature_names]\n",
    "y = df[[\"MEDV\"]]\n",
    "\n",
    "display(X.head())\n",
    "display(y.head())"
   ]
  },
  {
   "cell_type": "markdown",
   "id": "08cdad57-81b3-4234-83a7-c93f4d6f9d77",
   "metadata": {},
   "source": [
    "#### 訓練データ・テストデータの分割"
   ]
  },
  {
   "cell_type": "code",
   "execution_count": 34,
   "id": "ec589df7-e8b0-42fd-a2f5-11d0d7b4375f",
   "metadata": {},
   "outputs": [
    {
     "data": {
      "text/plain": [
       "14448"
      ]
     },
     "metadata": {},
     "output_type": "display_data"
    },
    {
     "data": {
      "text/html": [
       "<div>\n",
       "<style scoped>\n",
       "    .dataframe tbody tr th:only-of-type {\n",
       "        vertical-align: middle;\n",
       "    }\n",
       "\n",
       "    .dataframe tbody tr th {\n",
       "        vertical-align: top;\n",
       "    }\n",
       "\n",
       "    .dataframe thead th {\n",
       "        text-align: right;\n",
       "    }\n",
       "</style>\n",
       "<table border=\"1\" class=\"dataframe\">\n",
       "  <thead>\n",
       "    <tr style=\"text-align: right;\">\n",
       "      <th></th>\n",
       "      <th>MedInc</th>\n",
       "      <th>HouseAge</th>\n",
       "      <th>AveRooms</th>\n",
       "      <th>AveBedrms</th>\n",
       "      <th>Population</th>\n",
       "      <th>AveOccup</th>\n",
       "      <th>Latitude</th>\n",
       "      <th>Longitude</th>\n",
       "    </tr>\n",
       "  </thead>\n",
       "  <tbody>\n",
       "    <tr>\n",
       "      <th>1989</th>\n",
       "      <td>1.9750</td>\n",
       "      <td>52.0</td>\n",
       "      <td>2.800000</td>\n",
       "      <td>0.700000</td>\n",
       "      <td>193.0</td>\n",
       "      <td>4.825000</td>\n",
       "      <td>36.73</td>\n",
       "      <td>-119.79</td>\n",
       "    </tr>\n",
       "    <tr>\n",
       "      <th>256</th>\n",
       "      <td>2.2604</td>\n",
       "      <td>43.0</td>\n",
       "      <td>3.671480</td>\n",
       "      <td>1.184116</td>\n",
       "      <td>836.0</td>\n",
       "      <td>3.018051</td>\n",
       "      <td>37.77</td>\n",
       "      <td>-122.21</td>\n",
       "    </tr>\n",
       "    <tr>\n",
       "      <th>7887</th>\n",
       "      <td>6.2990</td>\n",
       "      <td>17.0</td>\n",
       "      <td>6.478022</td>\n",
       "      <td>1.087912</td>\n",
       "      <td>1387.0</td>\n",
       "      <td>3.810440</td>\n",
       "      <td>33.87</td>\n",
       "      <td>-118.04</td>\n",
       "    </tr>\n",
       "    <tr>\n",
       "      <th>4581</th>\n",
       "      <td>1.7199</td>\n",
       "      <td>17.0</td>\n",
       "      <td>2.518000</td>\n",
       "      <td>1.196000</td>\n",
       "      <td>3051.0</td>\n",
       "      <td>3.051000</td>\n",
       "      <td>34.06</td>\n",
       "      <td>-118.28</td>\n",
       "    </tr>\n",
       "    <tr>\n",
       "      <th>1993</th>\n",
       "      <td>2.2206</td>\n",
       "      <td>50.0</td>\n",
       "      <td>4.622754</td>\n",
       "      <td>1.161677</td>\n",
       "      <td>606.0</td>\n",
       "      <td>3.628743</td>\n",
       "      <td>36.73</td>\n",
       "      <td>-119.81</td>\n",
       "    </tr>\n",
       "    <tr>\n",
       "      <th>...</th>\n",
       "      <td>...</td>\n",
       "      <td>...</td>\n",
       "      <td>...</td>\n",
       "      <td>...</td>\n",
       "      <td>...</td>\n",
       "      <td>...</td>\n",
       "      <td>...</td>\n",
       "      <td>...</td>\n",
       "    </tr>\n",
       "    <tr>\n",
       "      <th>13123</th>\n",
       "      <td>4.4125</td>\n",
       "      <td>20.0</td>\n",
       "      <td>6.000000</td>\n",
       "      <td>1.045662</td>\n",
       "      <td>712.0</td>\n",
       "      <td>3.251142</td>\n",
       "      <td>38.27</td>\n",
       "      <td>-121.26</td>\n",
       "    </tr>\n",
       "    <tr>\n",
       "      <th>19648</th>\n",
       "      <td>2.9135</td>\n",
       "      <td>27.0</td>\n",
       "      <td>5.349282</td>\n",
       "      <td>0.933014</td>\n",
       "      <td>647.0</td>\n",
       "      <td>3.095694</td>\n",
       "      <td>37.48</td>\n",
       "      <td>-120.89</td>\n",
       "    </tr>\n",
       "    <tr>\n",
       "      <th>9845</th>\n",
       "      <td>3.1977</td>\n",
       "      <td>31.0</td>\n",
       "      <td>3.641221</td>\n",
       "      <td>0.941476</td>\n",
       "      <td>704.0</td>\n",
       "      <td>1.791349</td>\n",
       "      <td>36.58</td>\n",
       "      <td>-121.90</td>\n",
       "    </tr>\n",
       "    <tr>\n",
       "      <th>10799</th>\n",
       "      <td>5.6315</td>\n",
       "      <td>34.0</td>\n",
       "      <td>4.540598</td>\n",
       "      <td>1.064103</td>\n",
       "      <td>1052.0</td>\n",
       "      <td>2.247863</td>\n",
       "      <td>33.62</td>\n",
       "      <td>-117.93</td>\n",
       "    </tr>\n",
       "    <tr>\n",
       "      <th>2732</th>\n",
       "      <td>1.3882</td>\n",
       "      <td>15.0</td>\n",
       "      <td>3.929530</td>\n",
       "      <td>1.100671</td>\n",
       "      <td>1024.0</td>\n",
       "      <td>3.436242</td>\n",
       "      <td>32.80</td>\n",
       "      <td>-115.56</td>\n",
       "    </tr>\n",
       "  </tbody>\n",
       "</table>\n",
       "<p>14448 rows × 8 columns</p>\n",
       "</div>"
      ],
      "text/plain": [
       "       MedInc  HouseAge  AveRooms  AveBedrms  Population  AveOccup  Latitude  \\\n",
       "1989   1.9750      52.0  2.800000   0.700000       193.0  4.825000     36.73   \n",
       "256    2.2604      43.0  3.671480   1.184116       836.0  3.018051     37.77   \n",
       "7887   6.2990      17.0  6.478022   1.087912      1387.0  3.810440     33.87   \n",
       "4581   1.7199      17.0  2.518000   1.196000      3051.0  3.051000     34.06   \n",
       "1993   2.2206      50.0  4.622754   1.161677       606.0  3.628743     36.73   \n",
       "...       ...       ...       ...        ...         ...       ...       ...   \n",
       "13123  4.4125      20.0  6.000000   1.045662       712.0  3.251142     38.27   \n",
       "19648  2.9135      27.0  5.349282   0.933014       647.0  3.095694     37.48   \n",
       "9845   3.1977      31.0  3.641221   0.941476       704.0  1.791349     36.58   \n",
       "10799  5.6315      34.0  4.540598   1.064103      1052.0  2.247863     33.62   \n",
       "2732   1.3882      15.0  3.929530   1.100671      1024.0  3.436242     32.80   \n",
       "\n",
       "       Longitude  \n",
       "1989     -119.79  \n",
       "256      -122.21  \n",
       "7887     -118.04  \n",
       "4581     -118.28  \n",
       "1993     -119.81  \n",
       "...          ...  \n",
       "13123    -121.26  \n",
       "19648    -120.89  \n",
       "9845     -121.90  \n",
       "10799    -117.93  \n",
       "2732     -115.56  \n",
       "\n",
       "[14448 rows x 8 columns]"
      ]
     },
     "metadata": {},
     "output_type": "display_data"
    },
    {
     "data": {
      "text/plain": [
       "6192"
      ]
     },
     "metadata": {},
     "output_type": "display_data"
    },
    {
     "data": {
      "text/html": [
       "<div>\n",
       "<style scoped>\n",
       "    .dataframe tbody tr th:only-of-type {\n",
       "        vertical-align: middle;\n",
       "    }\n",
       "\n",
       "    .dataframe tbody tr th {\n",
       "        vertical-align: top;\n",
       "    }\n",
       "\n",
       "    .dataframe thead th {\n",
       "        text-align: right;\n",
       "    }\n",
       "</style>\n",
       "<table border=\"1\" class=\"dataframe\">\n",
       "  <thead>\n",
       "    <tr style=\"text-align: right;\">\n",
       "      <th></th>\n",
       "      <th>MedInc</th>\n",
       "      <th>HouseAge</th>\n",
       "      <th>AveRooms</th>\n",
       "      <th>AveBedrms</th>\n",
       "      <th>Population</th>\n",
       "      <th>AveOccup</th>\n",
       "      <th>Latitude</th>\n",
       "      <th>Longitude</th>\n",
       "    </tr>\n",
       "  </thead>\n",
       "  <tbody>\n",
       "    <tr>\n",
       "      <th>14740</th>\n",
       "      <td>4.1518</td>\n",
       "      <td>22.0</td>\n",
       "      <td>5.663073</td>\n",
       "      <td>1.075472</td>\n",
       "      <td>1551.0</td>\n",
       "      <td>4.180593</td>\n",
       "      <td>32.58</td>\n",
       "      <td>-117.05</td>\n",
       "    </tr>\n",
       "    <tr>\n",
       "      <th>10101</th>\n",
       "      <td>5.7796</td>\n",
       "      <td>32.0</td>\n",
       "      <td>6.107226</td>\n",
       "      <td>0.927739</td>\n",
       "      <td>1296.0</td>\n",
       "      <td>3.020979</td>\n",
       "      <td>33.92</td>\n",
       "      <td>-117.97</td>\n",
       "    </tr>\n",
       "    <tr>\n",
       "      <th>20566</th>\n",
       "      <td>4.3487</td>\n",
       "      <td>29.0</td>\n",
       "      <td>5.930712</td>\n",
       "      <td>1.026217</td>\n",
       "      <td>1554.0</td>\n",
       "      <td>2.910112</td>\n",
       "      <td>38.65</td>\n",
       "      <td>-121.84</td>\n",
       "    </tr>\n",
       "    <tr>\n",
       "      <th>2670</th>\n",
       "      <td>2.4511</td>\n",
       "      <td>37.0</td>\n",
       "      <td>4.992958</td>\n",
       "      <td>1.316901</td>\n",
       "      <td>390.0</td>\n",
       "      <td>2.746479</td>\n",
       "      <td>33.20</td>\n",
       "      <td>-115.60</td>\n",
       "    </tr>\n",
       "    <tr>\n",
       "      <th>15709</th>\n",
       "      <td>5.0049</td>\n",
       "      <td>25.0</td>\n",
       "      <td>4.319261</td>\n",
       "      <td>1.039578</td>\n",
       "      <td>649.0</td>\n",
       "      <td>1.712401</td>\n",
       "      <td>37.79</td>\n",
       "      <td>-122.43</td>\n",
       "    </tr>\n",
       "    <tr>\n",
       "      <th>...</th>\n",
       "      <td>...</td>\n",
       "      <td>...</td>\n",
       "      <td>...</td>\n",
       "      <td>...</td>\n",
       "      <td>...</td>\n",
       "      <td>...</td>\n",
       "      <td>...</td>\n",
       "      <td>...</td>\n",
       "    </tr>\n",
       "    <tr>\n",
       "      <th>19681</th>\n",
       "      <td>3.0962</td>\n",
       "      <td>36.0</td>\n",
       "      <td>4.746421</td>\n",
       "      <td>0.930470</td>\n",
       "      <td>1168.0</td>\n",
       "      <td>2.388548</td>\n",
       "      <td>39.15</td>\n",
       "      <td>-121.62</td>\n",
       "    </tr>\n",
       "    <tr>\n",
       "      <th>12156</th>\n",
       "      <td>4.1386</td>\n",
       "      <td>2.0</td>\n",
       "      <td>8.821216</td>\n",
       "      <td>1.414779</td>\n",
       "      <td>2826.0</td>\n",
       "      <td>3.368296</td>\n",
       "      <td>33.66</td>\n",
       "      <td>-117.17</td>\n",
       "    </tr>\n",
       "    <tr>\n",
       "      <th>10211</th>\n",
       "      <td>7.8750</td>\n",
       "      <td>30.0</td>\n",
       "      <td>7.550926</td>\n",
       "      <td>0.981481</td>\n",
       "      <td>523.0</td>\n",
       "      <td>2.421296</td>\n",
       "      <td>33.89</td>\n",
       "      <td>-117.91</td>\n",
       "    </tr>\n",
       "    <tr>\n",
       "      <th>2445</th>\n",
       "      <td>2.0658</td>\n",
       "      <td>34.0</td>\n",
       "      <td>5.938144</td>\n",
       "      <td>1.206186</td>\n",
       "      <td>363.0</td>\n",
       "      <td>3.742268</td>\n",
       "      <td>36.56</td>\n",
       "      <td>-119.64</td>\n",
       "    </tr>\n",
       "    <tr>\n",
       "      <th>17914</th>\n",
       "      <td>4.6761</td>\n",
       "      <td>32.0</td>\n",
       "      <td>5.315152</td>\n",
       "      <td>0.981818</td>\n",
       "      <td>917.0</td>\n",
       "      <td>2.778788</td>\n",
       "      <td>37.36</td>\n",
       "      <td>-121.99</td>\n",
       "    </tr>\n",
       "  </tbody>\n",
       "</table>\n",
       "<p>6192 rows × 8 columns</p>\n",
       "</div>"
      ],
      "text/plain": [
       "       MedInc  HouseAge  AveRooms  AveBedrms  Population  AveOccup  Latitude  \\\n",
       "14740  4.1518      22.0  5.663073   1.075472      1551.0  4.180593     32.58   \n",
       "10101  5.7796      32.0  6.107226   0.927739      1296.0  3.020979     33.92   \n",
       "20566  4.3487      29.0  5.930712   1.026217      1554.0  2.910112     38.65   \n",
       "2670   2.4511      37.0  4.992958   1.316901       390.0  2.746479     33.20   \n",
       "15709  5.0049      25.0  4.319261   1.039578       649.0  1.712401     37.79   \n",
       "...       ...       ...       ...        ...         ...       ...       ...   \n",
       "19681  3.0962      36.0  4.746421   0.930470      1168.0  2.388548     39.15   \n",
       "12156  4.1386       2.0  8.821216   1.414779      2826.0  3.368296     33.66   \n",
       "10211  7.8750      30.0  7.550926   0.981481       523.0  2.421296     33.89   \n",
       "2445   2.0658      34.0  5.938144   1.206186       363.0  3.742268     36.56   \n",
       "17914  4.6761      32.0  5.315152   0.981818       917.0  2.778788     37.36   \n",
       "\n",
       "       Longitude  \n",
       "14740    -117.05  \n",
       "10101    -117.97  \n",
       "20566    -121.84  \n",
       "2670     -115.60  \n",
       "15709    -122.43  \n",
       "...          ...  \n",
       "19681    -121.62  \n",
       "12156    -117.17  \n",
       "10211    -117.91  \n",
       "2445     -119.64  \n",
       "17914    -121.99  \n",
       "\n",
       "[6192 rows x 8 columns]"
      ]
     },
     "metadata": {},
     "output_type": "display_data"
    }
   ],
   "source": [
    "from sklearn.model_selection import train_test_split\n",
    "\n",
    "X_train, X_test, y_train, y_test = train_test_split(X, y, test_size=0.3, random_state=0)\n",
    "\n",
    "display(len(X_train))\n",
    "display(X_train)\n",
    "\n",
    "display(len(X_test))\n",
    "display(X_test)"
   ]
  },
  {
   "cell_type": "markdown",
   "id": "2244e4d9-064a-48b1-ae0b-25948ed2e566",
   "metadata": {},
   "source": [
    "### ノック42 : データをスケーリングしよう"
   ]
  },
  {
   "cell_type": "markdown",
   "id": "bd9a4c03-368c-414f-b88b-25fc99ec4e4f",
   "metadata": {},
   "source": [
    "#### データのスケーリング"
   ]
  },
  {
   "cell_type": "code",
   "execution_count": 35,
   "id": "7e97be8e-61a6-4b41-9a59-4a9d362e8ed7",
   "metadata": {},
   "outputs": [
    {
     "data": {
      "text/plain": [
       "array([[-1.00030408,  1.8562098 , -1.146823  , -0.87197529, -1.07186955,\n",
       "         0.25982829,  0.51396387, -0.11131397],\n",
       "       [-0.84938602,  1.14171192, -0.76585476,  0.19733493, -0.51251556,\n",
       "        -0.00327132,  0.99993462, -1.3173838 ],\n",
       "       [ 1.28620508, -0.92239307,  0.46102722, -0.0151584 , -0.03319355,\n",
       "         0.11210392, -0.82245571,  0.76084397]])"
      ]
     },
     "metadata": {},
     "output_type": "display_data"
    },
    {
     "data": {
      "text/plain": [
       "array([[ 0.14156681, -0.53250822,  0.07721063, -0.04931106,  0.11432005,\n",
       "         0.06581932, -1.43730657,  1.26571866],\n",
       "       [ 0.98944483,  0.26370807,  0.23237326, -0.33345966, -0.11930789,\n",
       "        -0.00759713, -0.80707125,  0.80488164],\n",
       "       [ 0.24412682,  0.02484318,  0.17070885, -0.1440469 ,  0.11706862,\n",
       "        -0.01461622,  1.41756538, -1.13363929]])"
      ]
     },
     "metadata": {},
     "output_type": "display_data"
    }
   ],
   "source": [
    "from sklearn.preprocessing import StandardScaler\n",
    "\n",
    "scaler = StandardScaler()\n",
    "\n",
    "X_train_scaled = scaler.fit_transform(X_train)\n",
    "X_test_scaled = scaler.fit_transform(X_test)\n",
    "\n",
    "display(X_train_scaled[:3])\n",
    "display(X_test_scaled[:3])"
   ]
  },
  {
   "cell_type": "markdown",
   "id": "8fa5cd9a-565c-41ea-a6a2-2a25792cb54c",
   "metadata": {},
   "source": [
    "### ノック43 : 重回帰モデルを構築しよう"
   ]
  },
  {
   "cell_type": "markdown",
   "id": "8176b822-969a-4b36-a2eb-1706a74826a1",
   "metadata": {},
   "source": [
    "#### 重回帰モデルの構築"
   ]
  },
  {
   "cell_type": "code",
   "execution_count": 36,
   "id": "8a1220cf-782b-498a-b77b-9193e00f7163",
   "metadata": {},
   "outputs": [],
   "source": [
    "from sklearn.linear_model import LinearRegression\n",
    "\n",
    "# X_train_scaled は、複数の説明変数\n",
    "multi_reg = LinearRegression().fit(X_train_scaled, y_train)"
   ]
  },
  {
   "cell_type": "markdown",
   "id": "014e31b0-d66e-4eda-822c-c2dcd453bb19",
   "metadata": {},
   "source": [
    "#### 学習データを使用した予測値の算出"
   ]
  },
  {
   "cell_type": "code",
   "execution_count": 37,
   "id": "1d23df10-7f78-40ef-8a93-90fdbb9638a8",
   "metadata": {},
   "outputs": [],
   "source": [
    "y_train_pred = multi_reg.predict(X_train_scaled)"
   ]
  },
  {
   "cell_type": "markdown",
   "id": "e493af66-6d02-4fdd-9249-e9eaaf89a672",
   "metadata": {},
   "source": [
    "#### テストデータを使用した予測値の算出"
   ]
  },
  {
   "cell_type": "code",
   "execution_count": 38,
   "id": "1009623e-7900-4750-a48f-7e32d3a60568",
   "metadata": {},
   "outputs": [],
   "source": [
    "y_test_pred = multi_reg.predict(X_test_scaled)"
   ]
  },
  {
   "cell_type": "markdown",
   "id": "e4ce71d5-9ca4-492b-8967-6d5a8310e229",
   "metadata": {},
   "source": [
    "#### 結果の表示"
   ]
  },
  {
   "cell_type": "code",
   "execution_count": 39,
   "id": "fb215fa7-bb19-4d02-a7b6-70a9e2f98145",
   "metadata": {},
   "outputs": [
    {
     "data": {
      "text/plain": [
       "14448"
      ]
     },
     "metadata": {},
     "output_type": "display_data"
    },
    {
     "data": {
      "text/plain": [
       "array([[1.14308253],\n",
       "       [1.99658954],\n",
       "       [2.98998518],\n",
       "       [1.49274811],\n",
       "       [1.32516045]])"
      ]
     },
     "metadata": {},
     "output_type": "display_data"
    },
    {
     "data": {
      "text/plain": [
       "6192"
      ]
     },
     "metadata": {},
     "output_type": "display_data"
    },
    {
     "data": {
      "text/plain": [
       "array([[2.27073513],\n",
       "       [2.79909824],\n",
       "       [1.91082021],\n",
       "       [1.00041803],\n",
       "       [2.9385367 ]])"
      ]
     },
     "metadata": {},
     "output_type": "display_data"
    }
   ],
   "source": [
    "display(len(y_train_pred))\n",
    "display(y_train_pred[:5])\n",
    "\n",
    "display(len(y_test_pred))\n",
    "display(y_test_pred[:5])"
   ]
  },
  {
   "cell_type": "markdown",
   "id": "27434b41-d122-4ddd-8bc1-7b85588edd02",
   "metadata": {},
   "source": [
    "### ノック44 : 重回帰モデルを評価しよう"
   ]
  },
  {
   "cell_type": "markdown",
   "id": "b8415baa-ab41-4463-b82a-78d9089cb7e8",
   "metadata": {},
   "source": [
    "#### 残差プロット"
   ]
  },
  {
   "cell_type": "code",
   "execution_count": 40,
   "id": "f6048dad-2cb8-4263-b11c-90f18db56a4d",
   "metadata": {},
   "outputs": [
    {
     "data": {
      "image/png": "[encoded data removed]",
      "text/plain": [
       "<Figure size 640x480 with 1 Axes>"
      ]
     },
     "metadata": {},
     "output_type": "display_data"
    }
   ],
   "source": [
    "import  matplotlib.pyplot as plt\n",
    "\n",
    "\n",
    "def residual_plot(y_train_pred, y_train, y_test_pred, y_test):\n",
    "    \"\"\" 残差プロット\n",
    "    \"\"\"\n",
    "    plt.scatter(y_train_pred, y_train_pred - y_train, label=\"train\")\n",
    "    plt.scatter(y_test_pred, y_test_pred - y_test, label=\"test\")\n",
    "\n",
    "    plt.plot([0, 50], [0, 0], color=\"red\")\n",
    "    \n",
    "    plt.xlabel(\"Pred\")\n",
    "    plt.xlabel(\"Pred - True\")\n",
    "    \n",
    "    plt.title(\"Residual Plot\")\n",
    "    \n",
    "    plt.legend()\n",
    "    plt.show()\n",
    "\n",
    "residual_plot(y_train_pred, y_train, y_test_pred, y_test)"
   ]
  },
  {
   "cell_type": "markdown",
   "id": "c39bdbb5-1934-4f9b-93af-fde740fc7e58",
   "metadata": {},
   "source": [
    "#### スコア算出（重回帰モデル）"
   ]
  },
  {
   "cell_type": "code",
   "execution_count": 41,
   "id": "07d96f00-4998-4191-80d5-dbd7a7fc245d",
   "metadata": {},
   "outputs": [],
   "source": [
    "from sklearn.metrics import (\n",
    "    mean_absolute_error,\n",
    "    mean_squared_error,\n",
    "    r2_score\n",
    ")\n",
    "import numpy as np\n",
    "\n",
    "def get_eval_score(y_true, y_pred):\n",
    "\n",
    "    mae = mean_absolute_error(y_true, y_pred)\n",
    "    mse = mean_squared_error(y_true, y_pred)\n",
    "    rmse = np.sqrt(mse)\n",
    "    r2score = r2_score(y_true, y_pred)\n",
    "    \n",
    "    display(\"テストデータ スコア\")\n",
    "    display(f\"MAE = {mae}\")\n",
    "    display(f\"MSE = {mse}\")\n",
    "    display(f\"RMSE = {rmse}\")\n",
    "    display(f\"R2 = {r2score}\")"
   ]
  },
  {
   "cell_type": "code",
   "execution_count": 42,
   "id": "9f24aece-c5e4-447f-a109-65ebc4ccc84d",
   "metadata": {},
   "outputs": [
    {
     "name": "stdout",
     "output_type": "stream",
     "text": [
      "訓練データスコア\n"
     ]
    },
    {
     "data": {
      "text/plain": [
       "'テストデータ スコア'"
      ]
     },
     "metadata": {},
     "output_type": "display_data"
    },
    {
     "data": {
      "text/plain": [
       "'MAE = 0.5293466964613609'"
      ]
     },
     "metadata": {},
     "output_type": "display_data"
    },
    {
     "data": {
      "text/plain": [
       "'MSE = 0.5173003362697665'"
      ]
     },
     "metadata": {},
     "output_type": "display_data"
    },
    {
     "data": {
      "text/plain": [
       "'RMSE = 0.7192359392228439'"
      ]
     },
     "metadata": {},
     "output_type": "display_data"
    },
    {
     "data": {
      "text/plain": [
       "'R2 = 0.6112941337977225'"
      ]
     },
     "metadata": {},
     "output_type": "display_data"
    }
   ],
   "source": [
    "print(\"訓練データスコア\")\n",
    "get_eval_score(y_train, y_train_pred)"
   ]
  },
  {
   "cell_type": "code",
   "execution_count": 43,
   "id": "56032bfe-5177-485c-987d-9067884afe1c",
   "metadata": {},
   "outputs": [
    {
     "name": "stdout",
     "output_type": "stream",
     "text": [
      "テストデータスコア\n"
     ]
    },
    {
     "data": {
      "text/plain": [
       "'テストデータ スコア'"
      ]
     },
     "metadata": {},
     "output_type": "display_data"
    },
    {
     "data": {
      "text/plain": [
       "'MAE = 0.5342905374714837'"
      ]
     },
     "metadata": {},
     "output_type": "display_data"
    },
    {
     "data": {
      "text/plain": [
       "'MSE = 0.5426453732570815'"
      ]
     },
     "metadata": {},
     "output_type": "display_data"
    },
    {
     "data": {
      "text/plain": [
       "'RMSE = 0.7366446723197566'"
      ]
     },
     "metadata": {},
     "output_type": "display_data"
    },
    {
     "data": {
      "text/plain": [
       "'R2 = 0.5929865012099728'"
      ]
     },
     "metadata": {},
     "output_type": "display_data"
    }
   ],
   "source": [
    "print(\"テストデータスコア\")\n",
    "get_eval_score(y_test, y_test_pred)"
   ]
  },
  {
   "cell_type": "markdown",
   "id": "322c3773-bc61-4006-b369-bdc8959f1aa3",
   "metadata": {},
   "source": [
    "#### ノック45 : 各説明変数の重みを確認してみよう\n"
   ]
  },
  {
   "cell_type": "code",
   "execution_count": 44,
   "id": "5508191b-2ea8-4ec9-844a-7180c55627ea",
   "metadata": {},
   "outputs": [
    {
     "name": "stdout",
     "output_type": "stream",
     "text": [
      "w0(MedInc) = 0.8448908486176182\n",
      "w1(HouseAge) = 0.11568529612994956\n",
      "w2(AveRooms) = -0.2701968679728307\n",
      "w3(AveBedrms) = 0.29078838029096676\n",
      "w4(Population) = -0.010771498000080489\n",
      "w5(AveOccup) = -0.02805795811729649\n",
      "w6(Latitude) = -0.8753288953620151\n",
      "w7(Longitude) = -0.8495986883646364\n",
      "b = 2.0682462451550454\n"
     ]
    }
   ],
   "source": [
    "for i, (col, coef) in enumerate(zip(housing.feature_names, multi_reg.coef_[0])):\n",
    "    print(f\"w{i}({col}) = {coef}\")\n",
    "\n",
    "print(f\"b = {multi_reg.intercept_[0]}\")"
   ]
  },
  {
   "cell_type": "markdown",
   "id": "401a1b72-982b-4b0c-b840-1a1a171901b4",
   "metadata": {},
   "source": [
    "### ノック46 : LASSO回帰モデルを構築しよう"
   ]
  },
  {
   "cell_type": "markdown",
   "id": "76099b3b-f53c-49f2-87fb-70d4346208b5",
   "metadata": {},
   "source": [
    "#### LASSO回帰モデルの構築"
   ]
  },
  {
   "cell_type": "code",
   "execution_count": 46,
   "id": "5aee6bef-4bd1-4d3e-b0f3-843fd689de15",
   "metadata": {},
   "outputs": [],
   "source": [
    "from sklearn.linear_model import Lasso\n",
    "\n",
    "lasso = Lasso().fit(X_train_scaled, y_train)"
   ]
  },
  {
   "cell_type": "markdown",
   "id": "229b9417-cec9-4eca-8a3b-ae63b56717b4",
   "metadata": {},
   "source": [
    "#### 予測値の出力"
   ]
  },
  {
   "cell_type": "code",
   "execution_count": 47,
   "id": "962ec4cb-8b37-4a7e-8051-bc7e875aaafa",
   "metadata": {},
   "outputs": [
    {
     "data": {
      "text/plain": [
       "14448"
      ]
     },
     "metadata": {},
     "output_type": "display_data"
    },
    {
     "data": {
      "text/plain": [
       "array([2.06824625, 2.06824625, 2.06824625, 2.06824625, 2.06824625])"
      ]
     },
     "metadata": {},
     "output_type": "display_data"
    },
    {
     "data": {
      "text/plain": [
       "6192"
      ]
     },
     "metadata": {},
     "output_type": "display_data"
    },
    {
     "data": {
      "text/plain": [
       "array([2.06824625, 2.06824625, 2.06824625, 2.06824625, 2.06824625])"
      ]
     },
     "metadata": {},
     "output_type": "display_data"
    }
   ],
   "source": [
    "y_train_pred = lasso.predict(X_train_scaled)\n",
    "y_test_pred = lasso.predict(X_test_scaled)\n",
    "\n",
    "display(len(y_train_pred))\n",
    "display(y_train_pred[:5])\n",
    "\n",
    "display(len(y_test_pred))\n",
    "display(y_test_pred[:5])"
   ]
  },
  {
   "cell_type": "code",
   "execution_count": 48,
   "id": "33bd84f0-c997-4592-841b-987656269400",
   "metadata": {},
   "outputs": [
    {
     "data": {
      "text/plain": [
       "array([[2.06824625],\n",
       "       [2.06824625],\n",
       "       [2.06824625],\n",
       "       [2.06824625],\n",
       "       [2.06824625]])"
      ]
     },
     "metadata": {},
     "output_type": "display_data"
    },
    {
     "data": {
      "text/plain": [
       "array([[2.06824625],\n",
       "       [2.06824625],\n",
       "       [2.06824625],\n",
       "       [2.06824625],\n",
       "       [2.06824625]])"
      ]
     },
     "metadata": {},
     "output_type": "display_data"
    }
   ],
   "source": [
    "y_train_pred = np.expand_dims(y_train_pred, 1)\n",
    "y_test_pred = np.expand_dims(y_test_pred, 1)\n",
    "\n",
    "display(y_train_pred[:5])\n",
    "display(y_test_pred[:5])"
   ]
  },
  {
   "cell_type": "markdown",
   "id": "daf555a0-cbd4-423e-a366-2db3aad83492",
   "metadata": {},
   "source": [
    "### ノック47 : LASSO回帰モデルを評価しよう"
   ]
  },
  {
   "cell_type": "code",
   "execution_count": 49,
   "id": "7a159beb-46c7-4562-abd0-340e9a4b828f",
   "metadata": {},
   "outputs": [
    {
     "name": "stdout",
     "output_type": "stream",
     "text": [
      "訓練データスコア\n"
     ]
    },
    {
     "data": {
      "text/plain": [
       "'テストデータ スコア'"
      ]
     },
     "metadata": {},
     "output_type": "display_data"
    },
    {
     "data": {
      "text/plain": [
       "'MAE = 0.9102203910206986'"
      ]
     },
     "metadata": {},
     "output_type": "display_data"
    },
    {
     "data": {
      "text/plain": [
       "'MSE = 1.3308271915828764'"
      ]
     },
     "metadata": {},
     "output_type": "display_data"
    },
    {
     "data": {
      "text/plain": [
       "'RMSE = 1.1536148367556982'"
      ]
     },
     "metadata": {},
     "output_type": "display_data"
    },
    {
     "data": {
      "text/plain": [
       "'R2 = 0.0'"
      ]
     },
     "metadata": {},
     "output_type": "display_data"
    }
   ],
   "source": [
    "print(\"訓練データスコア\")\n",
    "get_eval_score(y_train, y_train_pred)"
   ]
  },
  {
   "cell_type": "code",
   "execution_count": 50,
   "id": "798cc961-d7be-49dd-8771-b09e0f76ba1b",
   "metadata": {},
   "outputs": [
    {
     "name": "stdout",
     "output_type": "stream",
     "text": [
      "テストデータスコア\n"
     ]
    },
    {
     "data": {
      "text/plain": [
       "'テストデータ スコア'"
      ]
     },
     "metadata": {},
     "output_type": "display_data"
    },
    {
     "data": {
      "text/plain": [
       "'MAE = 0.9149721332821296'"
      ]
     },
     "metadata": {},
     "output_type": "display_data"
    },
    {
     "data": {
      "text/plain": [
       "'MSE = 1.3332378775677824'"
      ]
     },
     "metadata": {},
     "output_type": "display_data"
    },
    {
     "data": {
      "text/plain": [
       "'RMSE = 1.1546592040804864'"
      ]
     },
     "metadata": {},
     "output_type": "display_data"
    },
    {
     "data": {
      "text/plain": [
       "'R2 = -8.108632143510874e-07'"
      ]
     },
     "metadata": {},
     "output_type": "display_data"
    }
   ],
   "source": [
    "print(\"テストデータスコア\")\n",
    "get_eval_score(y_test, y_test_pred)"
   ]
  },
  {
   "cell_type": "code",
   "execution_count": 51,
   "id": "3a008298-0e81-42a4-af85-4a2764057c86",
   "metadata": {},
   "outputs": [
    {
     "name": "stdout",
     "output_type": "stream",
     "text": [
      "w0(MedInc) = 0.8448908486176182\n",
      "w1(HouseAge) = 0.11568529612994956\n",
      "w2(AveRooms) = -0.2701968679728307\n",
      "w3(AveBedrms) = 0.29078838029096676\n",
      "w4(Population) = -0.010771498000080489\n",
      "w5(AveOccup) = -0.02805795811729649\n",
      "w6(Latitude) = -0.8753288953620151\n",
      "w7(Longitude) = -0.8495986883646364\n",
      "b = 2.0682462451550454\n"
     ]
    }
   ],
   "source": [
    "for i, (col, coef) in enumerate(zip(housing.feature_names, multi_reg.coef_[0])):\n",
    "    print(f\"w{i}({col}) = {coef}\")\n",
    "\n",
    "print(f\"b = {multi_reg.intercept_[0]}\")"
   ]
  },
  {
   "cell_type": "code",
   "execution_count": null,
   "id": "483d8806-a32f-4f29-b9a6-016fdef042f4",
   "metadata": {},
   "outputs": [],
   "source": []
  },
  {
   "cell_type": "code",
   "execution_count": null,
   "id": "7c3780c7-8d85-43f5-81c3-c75d7d5032ad",
   "metadata": {},
   "outputs": [],
   "source": []
  }
 ],
 "metadata": {
  "kernelspec": {
   "display_name": "Python 3 (ipykernel)",
   "language": "python",
   "name": "python3"
  },
  "language_info": {
   "codemirror_mode": {
    "name": "ipython",
    "version": 3
   },
   "file_extension": ".py",
   "mimetype": "text/x-python",
   "name": "python",
   "nbconvert_exporter": "python",
   "pygments_lexer": "ipython3",
   "version": "3.12.1"
  }
 },
 "nbformat": 4,
 "nbformat_minor": 5
}
