{
 "cells": [
  {
   "cell_type": "markdown",
   "id": "ab7aad8d-d249-42af-8bc4-6c73f696eaa8",
   "metadata": {},
   "source": [
    "## 第8章 : 分類モデルの評価を行う10本ノック"
   ]
  },
  {
   "cell_type": "markdown",
   "id": "6bddcde2-3042-436e-92da-645b53ed4d19",
   "metadata": {},
   "source": [
    "### ノック71 : 評価対象のモデルを用意しよう"
   ]
  },
  {
   "cell_type": "code",
   "execution_count": 1,
   "id": "2742c41a-7869-4664-a799-d8f336c6d813",
   "metadata": {},
   "outputs": [
    {
     "data": {
      "text/html": [
       "<div>\n",
       "<style scoped>\n",
       "    .dataframe tbody tr th:only-of-type {\n",
       "        vertical-align: middle;\n",
       "    }\n",
       "\n",
       "    .dataframe tbody tr th {\n",
       "        vertical-align: top;\n",
       "    }\n",
       "\n",
       "    .dataframe thead th {\n",
       "        text-align: right;\n",
       "    }\n",
       "</style>\n",
       "<table border=\"1\" class=\"dataframe\">\n",
       "  <thead>\n",
       "    <tr style=\"text-align: right;\">\n",
       "      <th></th>\n",
       "      <th>mean radius</th>\n",
       "      <th>mean texture</th>\n",
       "      <th>mean perimeter</th>\n",
       "      <th>mean area</th>\n",
       "      <th>mean smoothness</th>\n",
       "      <th>mean compactness</th>\n",
       "      <th>mean concavity</th>\n",
       "      <th>mean concave points</th>\n",
       "      <th>mean symmetry</th>\n",
       "      <th>mean fractal dimension</th>\n",
       "      <th>...</th>\n",
       "      <th>worst texture</th>\n",
       "      <th>worst perimeter</th>\n",
       "      <th>worst area</th>\n",
       "      <th>worst smoothness</th>\n",
       "      <th>worst compactness</th>\n",
       "      <th>worst concavity</th>\n",
       "      <th>worst concave points</th>\n",
       "      <th>worst symmetry</th>\n",
       "      <th>worst fractal dimension</th>\n",
       "      <th>y</th>\n",
       "    </tr>\n",
       "  </thead>\n",
       "  <tbody>\n",
       "    <tr>\n",
       "      <th>0</th>\n",
       "      <td>17.99</td>\n",
       "      <td>10.38</td>\n",
       "      <td>122.80</td>\n",
       "      <td>1001.0</td>\n",
       "      <td>0.11840</td>\n",
       "      <td>0.27760</td>\n",
       "      <td>0.3001</td>\n",
       "      <td>0.14710</td>\n",
       "      <td>0.2419</td>\n",
       "      <td>0.07871</td>\n",
       "      <td>...</td>\n",
       "      <td>17.33</td>\n",
       "      <td>184.60</td>\n",
       "      <td>2019.0</td>\n",
       "      <td>0.1622</td>\n",
       "      <td>0.6656</td>\n",
       "      <td>0.7119</td>\n",
       "      <td>0.2654</td>\n",
       "      <td>0.4601</td>\n",
       "      <td>0.11890</td>\n",
       "      <td>0</td>\n",
       "    </tr>\n",
       "    <tr>\n",
       "      <th>1</th>\n",
       "      <td>20.57</td>\n",
       "      <td>17.77</td>\n",
       "      <td>132.90</td>\n",
       "      <td>1326.0</td>\n",
       "      <td>0.08474</td>\n",
       "      <td>0.07864</td>\n",
       "      <td>0.0869</td>\n",
       "      <td>0.07017</td>\n",
       "      <td>0.1812</td>\n",
       "      <td>0.05667</td>\n",
       "      <td>...</td>\n",
       "      <td>23.41</td>\n",
       "      <td>158.80</td>\n",
       "      <td>1956.0</td>\n",
       "      <td>0.1238</td>\n",
       "      <td>0.1866</td>\n",
       "      <td>0.2416</td>\n",
       "      <td>0.1860</td>\n",
       "      <td>0.2750</td>\n",
       "      <td>0.08902</td>\n",
       "      <td>0</td>\n",
       "    </tr>\n",
       "    <tr>\n",
       "      <th>2</th>\n",
       "      <td>19.69</td>\n",
       "      <td>21.25</td>\n",
       "      <td>130.00</td>\n",
       "      <td>1203.0</td>\n",
       "      <td>0.10960</td>\n",
       "      <td>0.15990</td>\n",
       "      <td>0.1974</td>\n",
       "      <td>0.12790</td>\n",
       "      <td>0.2069</td>\n",
       "      <td>0.05999</td>\n",
       "      <td>...</td>\n",
       "      <td>25.53</td>\n",
       "      <td>152.50</td>\n",
       "      <td>1709.0</td>\n",
       "      <td>0.1444</td>\n",
       "      <td>0.4245</td>\n",
       "      <td>0.4504</td>\n",
       "      <td>0.2430</td>\n",
       "      <td>0.3613</td>\n",
       "      <td>0.08758</td>\n",
       "      <td>0</td>\n",
       "    </tr>\n",
       "    <tr>\n",
       "      <th>3</th>\n",
       "      <td>11.42</td>\n",
       "      <td>20.38</td>\n",
       "      <td>77.58</td>\n",
       "      <td>386.1</td>\n",
       "      <td>0.14250</td>\n",
       "      <td>0.28390</td>\n",
       "      <td>0.2414</td>\n",
       "      <td>0.10520</td>\n",
       "      <td>0.2597</td>\n",
       "      <td>0.09744</td>\n",
       "      <td>...</td>\n",
       "      <td>26.50</td>\n",
       "      <td>98.87</td>\n",
       "      <td>567.7</td>\n",
       "      <td>0.2098</td>\n",
       "      <td>0.8663</td>\n",
       "      <td>0.6869</td>\n",
       "      <td>0.2575</td>\n",
       "      <td>0.6638</td>\n",
       "      <td>0.17300</td>\n",
       "      <td>0</td>\n",
       "    </tr>\n",
       "    <tr>\n",
       "      <th>4</th>\n",
       "      <td>20.29</td>\n",
       "      <td>14.34</td>\n",
       "      <td>135.10</td>\n",
       "      <td>1297.0</td>\n",
       "      <td>0.10030</td>\n",
       "      <td>0.13280</td>\n",
       "      <td>0.1980</td>\n",
       "      <td>0.10430</td>\n",
       "      <td>0.1809</td>\n",
       "      <td>0.05883</td>\n",
       "      <td>...</td>\n",
       "      <td>16.67</td>\n",
       "      <td>152.20</td>\n",
       "      <td>1575.0</td>\n",
       "      <td>0.1374</td>\n",
       "      <td>0.2050</td>\n",
       "      <td>0.4000</td>\n",
       "      <td>0.1625</td>\n",
       "      <td>0.2364</td>\n",
       "      <td>0.07678</td>\n",
       "      <td>0</td>\n",
       "    </tr>\n",
       "  </tbody>\n",
       "</table>\n",
       "<p>5 rows × 31 columns</p>\n",
       "</div>"
      ],
      "text/plain": [
       "   mean radius  mean texture  mean perimeter  mean area  mean smoothness  \\\n",
       "0        17.99         10.38          122.80     1001.0          0.11840   \n",
       "1        20.57         17.77          132.90     1326.0          0.08474   \n",
       "2        19.69         21.25          130.00     1203.0          0.10960   \n",
       "3        11.42         20.38           77.58      386.1          0.14250   \n",
       "4        20.29         14.34          135.10     1297.0          0.10030   \n",
       "\n",
       "   mean compactness  mean concavity  mean concave points  mean symmetry  \\\n",
       "0           0.27760          0.3001              0.14710         0.2419   \n",
       "1           0.07864          0.0869              0.07017         0.1812   \n",
       "2           0.15990          0.1974              0.12790         0.2069   \n",
       "3           0.28390          0.2414              0.10520         0.2597   \n",
       "4           0.13280          0.1980              0.10430         0.1809   \n",
       "\n",
       "   mean fractal dimension  ...  worst texture  worst perimeter  worst area  \\\n",
       "0                 0.07871  ...          17.33           184.60      2019.0   \n",
       "1                 0.05667  ...          23.41           158.80      1956.0   \n",
       "2                 0.05999  ...          25.53           152.50      1709.0   \n",
       "3                 0.09744  ...          26.50            98.87       567.7   \n",
       "4                 0.05883  ...          16.67           152.20      1575.0   \n",
       "\n",
       "   worst smoothness  worst compactness  worst concavity  worst concave points  \\\n",
       "0            0.1622             0.6656           0.7119                0.2654   \n",
       "1            0.1238             0.1866           0.2416                0.1860   \n",
       "2            0.1444             0.4245           0.4504                0.2430   \n",
       "3            0.2098             0.8663           0.6869                0.2575   \n",
       "4            0.1374             0.2050           0.4000                0.1625   \n",
       "\n",
       "   worst symmetry  worst fractal dimension  y  \n",
       "0          0.4601                  0.11890  0  \n",
       "1          0.2750                  0.08902  0  \n",
       "2          0.3613                  0.08758  0  \n",
       "3          0.6638                  0.17300  0  \n",
       "4          0.2364                  0.07678  0  \n",
       "\n",
       "[5 rows x 31 columns]"
      ]
     },
     "metadata": {},
     "output_type": "display_data"
    }
   ],
   "source": [
    "from sklearn.datasets import load_breast_cancer\n",
    "import pandas as pd\n",
    "\n",
    "load_data = load_breast_cancer()\n",
    "\n",
    "df = pd.DataFrame(load_data.data, columns=load_data.feature_names)\n",
    "df[\"y\"] = load_data.target\n",
    "\n",
    "display(df.head())"
   ]
  },
  {
   "cell_type": "code",
   "execution_count": 2,
   "id": "330bb2ed-cb0d-4347-aa44-5d0fa9a98985",
   "metadata": {},
   "outputs": [],
   "source": [
    "X = df[[\"mean radius\", \"mean texture\"]]\n",
    "y = df[\"y\"]"
   ]
  },
  {
   "cell_type": "code",
   "execution_count": 3,
   "id": "541d757a-82ac-484c-a9de-6127fa39051c",
   "metadata": {},
   "outputs": [
    {
     "data": {
      "text/plain": [
       "398"
      ]
     },
     "metadata": {},
     "output_type": "display_data"
    },
    {
     "data": {
      "text/html": [
       "<div>\n",
       "<style scoped>\n",
       "    .dataframe tbody tr th:only-of-type {\n",
       "        vertical-align: middle;\n",
       "    }\n",
       "\n",
       "    .dataframe tbody tr th {\n",
       "        vertical-align: top;\n",
       "    }\n",
       "\n",
       "    .dataframe thead th {\n",
       "        text-align: right;\n",
       "    }\n",
       "</style>\n",
       "<table border=\"1\" class=\"dataframe\">\n",
       "  <thead>\n",
       "    <tr style=\"text-align: right;\">\n",
       "      <th></th>\n",
       "      <th>mean radius</th>\n",
       "      <th>mean texture</th>\n",
       "    </tr>\n",
       "  </thead>\n",
       "  <tbody>\n",
       "    <tr>\n",
       "      <th>478</th>\n",
       "      <td>11.490</td>\n",
       "      <td>14.59</td>\n",
       "    </tr>\n",
       "    <tr>\n",
       "      <th>303</th>\n",
       "      <td>10.490</td>\n",
       "      <td>18.61</td>\n",
       "    </tr>\n",
       "    <tr>\n",
       "      <th>155</th>\n",
       "      <td>12.250</td>\n",
       "      <td>17.94</td>\n",
       "    </tr>\n",
       "    <tr>\n",
       "      <th>186</th>\n",
       "      <td>18.310</td>\n",
       "      <td>18.58</td>\n",
       "    </tr>\n",
       "    <tr>\n",
       "      <th>101</th>\n",
       "      <td>6.981</td>\n",
       "      <td>13.43</td>\n",
       "    </tr>\n",
       "  </tbody>\n",
       "</table>\n",
       "</div>"
      ],
      "text/plain": [
       "     mean radius  mean texture\n",
       "478       11.490         14.59\n",
       "303       10.490         18.61\n",
       "155       12.250         17.94\n",
       "186       18.310         18.58\n",
       "101        6.981         13.43"
      ]
     },
     "metadata": {},
     "output_type": "display_data"
    },
    {
     "data": {
      "text/plain": [
       "171"
      ]
     },
     "metadata": {},
     "output_type": "display_data"
    },
    {
     "data": {
      "text/html": [
       "<div>\n",
       "<style scoped>\n",
       "    .dataframe tbody tr th:only-of-type {\n",
       "        vertical-align: middle;\n",
       "    }\n",
       "\n",
       "    .dataframe tbody tr th {\n",
       "        vertical-align: top;\n",
       "    }\n",
       "\n",
       "    .dataframe thead th {\n",
       "        text-align: right;\n",
       "    }\n",
       "</style>\n",
       "<table border=\"1\" class=\"dataframe\">\n",
       "  <thead>\n",
       "    <tr style=\"text-align: right;\">\n",
       "      <th></th>\n",
       "      <th>mean radius</th>\n",
       "      <th>mean texture</th>\n",
       "    </tr>\n",
       "  </thead>\n",
       "  <tbody>\n",
       "    <tr>\n",
       "      <th>512</th>\n",
       "      <td>13.40</td>\n",
       "      <td>20.52</td>\n",
       "    </tr>\n",
       "    <tr>\n",
       "      <th>457</th>\n",
       "      <td>13.21</td>\n",
       "      <td>25.25</td>\n",
       "    </tr>\n",
       "    <tr>\n",
       "      <th>439</th>\n",
       "      <td>14.02</td>\n",
       "      <td>15.66</td>\n",
       "    </tr>\n",
       "    <tr>\n",
       "      <th>298</th>\n",
       "      <td>14.26</td>\n",
       "      <td>18.17</td>\n",
       "    </tr>\n",
       "    <tr>\n",
       "      <th>37</th>\n",
       "      <td>13.03</td>\n",
       "      <td>18.42</td>\n",
       "    </tr>\n",
       "  </tbody>\n",
       "</table>\n",
       "</div>"
      ],
      "text/plain": [
       "     mean radius  mean texture\n",
       "512        13.40         20.52\n",
       "457        13.21         25.25\n",
       "439        14.02         15.66\n",
       "298        14.26         18.17\n",
       "37         13.03         18.42"
      ]
     },
     "metadata": {},
     "output_type": "display_data"
    }
   ],
   "source": [
    "from sklearn.model_selection import train_test_split\n",
    "\n",
    "X_train, X_test, y_train, y_test = train_test_split(X, y, test_size=0.3, random_state=0)\n",
    "\n",
    "display(len(X_train))\n",
    "display(X_train.head())\n",
    "\n",
    "display(len(X_test))\n",
    "display(X_test.head())"
   ]
  },
  {
   "cell_type": "markdown",
   "id": "2aa897d8-5410-40f5-92c9-92688602d4ad",
   "metadata": {},
   "source": [
    "#### ランダムフォレストモデルの構築および予測値の算出"
   ]
  },
  {
   "cell_type": "code",
   "execution_count": 11,
   "id": "f6d85632-6c18-406e-8de1-6111161607b0",
   "metadata": {},
   "outputs": [],
   "source": [
    "from sklearn.ensemble import RandomForestClassifier\n",
    "\n",
    "rf_cls = RandomForestClassifier(max_depth=3, random_state=0).fit(X_train, y_train)\n",
    "\n",
    "y_train_pred = rf_cls.predict(X_train)\n",
    "y_test_pred = rf_cls.predict(X_test)"
   ]
  },
  {
   "cell_type": "markdown",
   "id": "b6670b9b-b856-4d96-a00e-4e2994e328af",
   "metadata": {},
   "source": [
    "### ノック72 : 正解率を算出しよう"
   ]
  },
  {
   "cell_type": "code",
   "execution_count": 15,
   "id": "698e544b-6a4f-4a26-a8e8-8b5df9df2683",
   "metadata": {},
   "outputs": [
    {
     "name": "stdout",
     "output_type": "stream",
     "text": [
      "訓練データの正解率 : 0.9195979899497487\n",
      "テストデータの正解率 : 0.8888888888888888\n"
     ]
    }
   ],
   "source": [
    "from sklearn.metrics import accuracy_score\n",
    "\n",
    "print(f\"訓練データの正解率 : {accuracy_score(y_train, y_train_pred)}\")\n",
    "print(f\"テストデータの正解率 : {accuracy_score(y_test, y_test_pred)}\")"
   ]
  },
  {
   "cell_type": "markdown",
   "id": "989a401b-13d9-474d-a9a7-8ead63a6ea14",
   "metadata": {},
   "source": [
    "### ノック73 : 混同行列を見てみよう"
   ]
  },
  {
   "cell_type": "markdown",
   "id": "63977d61-af03-4a2d-b949-0e4e193f04a9",
   "metadata": {},
   "source": [
    "#### 混同行列の可視化"
   ]
  },
  {
   "cell_type": "code",
   "execution_count": 16,
   "id": "efa8f2ff-671c-4172-b2a6-2c6a0f9ae722",
   "metadata": {},
   "outputs": [
    {
     "data": {
      "image/png": "[encoded data removed]",
      "text/plain": [
       "<Figure size 640x480 with 2 Axes>"
      ]
     },
     "metadata": {},
     "output_type": "display_data"
    }
   ],
   "source": [
    "from sklearn.metrics import confusion_matrix\n",
    "import matplotlib.pyplot as plt\n",
    "import seaborn as sns\n",
    "\n",
    "matrix = confusion_matrix(y_test, y_test_pred)\n",
    "\n",
    "sns.heatmap(matrix.T, square=True, annot=True)\n",
    "\n",
    "plt.xlabel(\"True Label\")\n",
    "plt.ylabel(\"Pred Label\")\n",
    "plt.show()"
   ]
  },
  {
   "cell_type": "markdown",
   "id": "b61d82b6-30ba-4f09-99b9-5035e806e945",
   "metadata": {},
   "source": [
    "### ノック74 :　適合率を算出しよう"
   ]
  },
  {
   "cell_type": "code",
   "execution_count": 19,
   "id": "0809d8c9-a0cb-475c-a046-f95cb48b473b",
   "metadata": {},
   "outputs": [
    {
     "name": "stdout",
     "output_type": "stream",
     "text": [
      "訓練データ適合率 : 0.9534883720930233\n",
      "テストデータ適合率 : 0.8793103448275862\n"
     ]
    }
   ],
   "source": [
    "from sklearn.metrics import precision_score\n",
    "\n",
    "print(f\"訓練データ適合率 : {precision_score(y_train, y_train_pred, pos_label=0)}\")\n",
    "print(f\"テストデータ適合率 : {precision_score(y_test, y_test_pred, pos_label=0)}\")"
   ]
  },
  {
   "cell_type": "markdown",
   "id": "245cd937-f81e-4158-86aa-51f8782ad2ca",
   "metadata": {},
   "source": [
    "### ノック75 : 再現率を算出しよう"
   ]
  },
  {
   "cell_type": "code",
   "execution_count": 20,
   "id": "6e00d4ff-f8e4-4ad1-a1b7-bfad93d75646",
   "metadata": {},
   "outputs": [
    {
     "name": "stdout",
     "output_type": "stream",
     "text": [
      "訓練データ再現率 : 0.825503355704698\n",
      "テストデータ再現率 : 0.8095238095238095\n"
     ]
    }
   ],
   "source": [
    "from sklearn.metrics import recall_score\n",
    "\n",
    "print(f\"訓練データ再現率 : {recall_score(y_train, y_train_pred, pos_label=0)}\")\n",
    "print(f\"テストデータ再現率 : {recall_score(y_test, y_test_pred, pos_label=0)}\")"
   ]
  },
  {
   "cell_type": "markdown",
   "id": "d835bc90-cde3-4fec-950d-75bc8a091519",
   "metadata": {},
   "source": [
    "### ノック76 : F1値を算出しよう"
   ]
  },
  {
   "cell_type": "code",
   "execution_count": 21,
   "id": "23aadaea-6b0b-4550-81c8-11d87e42ef3a",
   "metadata": {},
   "outputs": [
    {
     "name": "stdout",
     "output_type": "stream",
     "text": [
      "訓練データ再現率 : 0.8848920863309353\n",
      "テストデータ再現率 : 0.8429752066115702\n"
     ]
    }
   ],
   "source": [
    "from sklearn.metrics import f1_score\n",
    "\n",
    "print(f\"訓練データ再現率 : {f1_score(y_train, y_train_pred, pos_label=0)}\")\n",
    "print(f\"テストデータ再現率 : {f1_score(y_test, y_test_pred, pos_label=0)}\")"
   ]
  },
  {
   "cell_type": "markdown",
   "id": "76f7a97b-4431-48a9-ae30-68a3f965f841",
   "metadata": {},
   "source": [
    "### ノック77 : 分類レポートを見てみよう"
   ]
  },
  {
   "cell_type": "code",
   "execution_count": 23,
   "id": "a99a8a74-45ee-41b6-b7e3-72699204f70d",
   "metadata": {},
   "outputs": [
    {
     "name": "stdout",
     "output_type": "stream",
     "text": [
      "訓練データ分類レポート :               precision    recall  f1-score   support\n",
      "\n",
      "           0       0.95      0.83      0.88       149\n",
      "           1       0.90      0.98      0.94       249\n",
      "\n",
      "    accuracy                           0.92       398\n",
      "   macro avg       0.93      0.90      0.91       398\n",
      "weighted avg       0.92      0.92      0.92       398\n",
      "\n",
      "テストデータ分類レポート :               precision    recall  f1-score   support\n",
      "\n",
      "           0       0.88      0.81      0.84        63\n",
      "           1       0.89      0.94      0.91       108\n",
      "\n",
      "    accuracy                           0.89       171\n",
      "   macro avg       0.89      0.87      0.88       171\n",
      "weighted avg       0.89      0.89      0.89       171\n",
      "\n"
     ]
    }
   ],
   "source": [
    "from sklearn.metrics import classification_report\n",
    "\n",
    "print(f\"訓練データ分類レポート : {classification_report(y_train, y_train_pred)}\")\n",
    "print(f\"テストデータ分類レポート : {classification_report(y_test, y_test_pred)}\")"
   ]
  },
  {
   "cell_type": "markdown",
   "id": "9e4ce9c2-1ae4-4fb9-8ea6-314ef5cb8bb5",
   "metadata": {},
   "source": [
    "### ノック78 : 予測結果の確信度を算出しよう"
   ]
  },
  {
   "cell_type": "code",
   "execution_count": 26,
   "id": "f8a6e6a6-c28a-41de-92dd-e75b7968df8b",
   "metadata": {},
   "outputs": [
    {
     "name": "stdout",
     "output_type": "stream",
     "text": [
      "[[0.02592192 0.97407808]\n",
      " [0.09656751 0.90343249]\n",
      " [0.09158286 0.90841714]\n",
      " [0.89796431 0.10203569]\n",
      " [0.01416888 0.98583112]]\n",
      "[[0.4094982  0.5905018 ]\n",
      " [0.43246982 0.56753018]\n",
      " [0.15599818 0.84400182]\n",
      " [0.20438491 0.79561509]\n",
      " [0.10739119 0.89260881]]\n"
     ]
    }
   ],
   "source": [
    "pred_proba_train = rf_cls.predict_proba(X_train)\n",
    "pred_proba_test = rf_cls.predict_proba(X_test)\n",
    "\n",
    "print(pred_proba_train[:5])\n",
    "print(pred_proba_test[:5])"
   ]
  },
  {
   "cell_type": "markdown",
   "id": "43fd3c28-22fe-4b5d-8940-a3e01defcbca",
   "metadata": {},
   "source": [
    "### ノック79 : PR（Precision-Recall）曲線を見てみよう"
   ]
  },
  {
   "cell_type": "code",
   "execution_count": 27,
   "id": "f1a5baab-6faf-44dd-9978-82f4e421ed6a",
   "metadata": {},
   "outputs": [
    {
     "name": "stdout",
     "output_type": "stream",
     "text": [
      "[0.36842105 0.37951807 0.38650307]\n",
      "[1. 1. 1.]\n",
      "[0.01416888 0.01965043 0.02044037]\n"
     ]
    }
   ],
   "source": [
    "from sklearn.metrics import precision_recall_curve\n",
    "from sklearn.metrics import auc\n",
    "\n",
    "precision, recall, thresholds = precision_recall_curve(y_test, pred_proba_test[:, 0], pos_label=0)\n",
    "\n",
    "print(precision[:3])\n",
    "print(recall[:3])\n",
    "print(thresholds[:3])"
   ]
  },
  {
   "cell_type": "markdown",
   "id": "11432187-9274-4861-9c63-8259866cd340",
   "metadata": {},
   "source": [
    "### ノック80 : 各モデルの評価結果を見てみよう"
   ]
  },
  {
   "cell_type": "code",
   "execution_count": null,
   "id": "c887b3da-5aae-40a5-a5b6-d7624716c9e0",
   "metadata": {},
   "outputs": [],
   "source": []
  },
  {
   "cell_type": "code",
   "execution_count": null,
   "id": "5ff822c6-d10d-4c7f-9d49-2f12d476b2ad",
   "metadata": {},
   "outputs": [],
   "source": []
  },
  {
   "cell_type": "code",
   "execution_count": null,
   "id": "8c1c96d5-915f-4e5e-b765-3744196601b1",
   "metadata": {},
   "outputs": [],
   "source": []
  }
 ],
 "metadata": {
  "kernelspec": {
   "display_name": "Python 3 (ipykernel)",
   "language": "python",
   "name": "python3"
  },
  "language_info": {
   "codemirror_mode": {
    "name": "ipython",
    "version": 3
   },
   "file_extension": ".py",
   "mimetype": "text/x-python",
   "name": "python",
   "nbconvert_exporter": "python",
   "pygments_lexer": "ipython3",
   "version": "3.12.1"
  }
 },
 "nbformat": 4,
 "nbformat_minor": 5
}
